{
  "nbformat": 4,
  "nbformat_minor": 0,
  "metadata": {
    "colab": {
      "provenance": []
    },
    "kernelspec": {
      "name": "python3",
      "display_name": "Python 3"
    },
    "language_info": {
      "name": "python"
    }
  },
  "cells": [
    {
      "cell_type": "markdown",
      "source": [
        "# **Análisis de ZEN de Python:**\n",
        "Copiar el texto e imprimir todas las líneas cuya segunda palabra comience con una vocal mayuscula o minuscula\n"
      ],
      "metadata": {
        "id": "UCc9mKXIxe8C"
      }
    },
    {
      "cell_type": "code",
      "execution_count": null,
      "metadata": {
        "id": "Yr-hjOwFxcE6"
      },
      "outputs": [],
      "source": [
        "textoZen = \"\"\"Bello es mejor que feo.\n",
        "Explícito es mejor que implícito.\n",
        "Simple es mejor que complejo.\n",
        "Complejo es mejor que complicado.\n",
        "Plano es mejor que anidado.\n",
        "Espaciado es mejor que denso.\n",
        "La legibilidad es importante.\n",
        "Los casos especiales no son lo suficientemente especiales como para romper las reglas.\n",
        "Sin embargo la practicidad le gana a la pureza.\n",
        "Los errores nunca deberían pasar silenciosamente.\n",
        "A menos que se silencien explícitamente.\n",
        "Frente a la ambigüedad, evitar la tentación de adivinar.\n",
        "Debería haber una, y preferiblemente solo una, manera obvia de hacerlo.\n",
        "A pesar de que eso no sea obvio al principio a menos que seas Holandés.\n",
        "Ahora es mejor que nunca.\n",
        "A pesar de que nunca es muchas veces mejor que *ahora* mismo.\n",
        "Si la implementación es difícil de explicar, es una mala idea.\n",
        "Si la implementación es fácil de explicar, puede que sea una buena idea.\n",
        "Los espacios de nombres son una gran idea, ¡tengamos más de esos!\"\"\"\n",
        "\n",
        "textoEnLineas = textoZen.split('\\n')\n",
        "\n",
        "vocales = \"aeiouAEIOU\"\n",
        "\n",
        "for linea in textoEnLineas:\n",
        "    palabras = linea.split()\n",
        "    if len(palabras) >= 2 and palabras[1][0] in vocales:\n",
        "        print(linea)"
      ]
    },
    {
      "cell_type": "markdown",
      "source": [
        "**Dado un listado de títulos de streams en Twitch:**\n",
        "\n",
        "**Encontrar el título con la mayor cantidad de palabras**"
      ],
      "metadata": {
        "id": "VFw0CKxTxsGQ"
      }
    },
    {
      "cell_type": "code",
      "source": [
        "titulos = [\n",
        "    \"Speedrun de Super Mario en Tiempo Récord\",\n",
        "    \"Charla sobre desarrollo de videojuegos\",\n",
        "    \"Jugando el nuevo FPS del momento con amigos\",\n",
        "    \"Música en vivo: Improvisaciones al piano\"\n",
        "]\n",
        "\n",
        "largo_max = 0\n",
        "resultado = \"\"\n",
        "\n",
        "for titulo in titulos:\n",
        "    cantidad_palabras = len(titulo.split())\n",
        "    if cantidad_palabras > largo_max:\n",
        "        resultado = titulo\n",
        "        largo_max = cantidad_palabras\n",
        "\n",
        "print(f\"'{resultado}' con {largo_max} palabras\")\n"
      ],
      "metadata": {
        "id": "goRf59b8xwyL"
      },
      "execution_count": null,
      "outputs": []
    },
    {
      "cell_type": "markdown",
      "source": [
        "**CÓDIGO DE CONDUCTA**\n",
        "**Solicitar una palabre clave al usuario e imprima todas las reglas que la contengan**"
      ],
      "metadata": {
        "id": "iEbqNmhIxy6g"
      }
    },
    {
      "cell_type": "code",
      "source": [
        "rules = \"\"\"Respeta a los demás. No se permiten insultos ni lenguaje ofensivo.\n",
        "Evita el spam. No publiques enlaces sospechosos o repetitivos.\n",
        "No compartas información personal.\n",
        "Usa los canales adecuados para cada tema.\n",
        "Sigue las instrucciones de los moderadores.\"\"\"\n",
        "\n",
        "palabra = input(\"Ingrese palabra clave: \").lower()\n",
        "\n",
        "lineas = rules.split('\\n')\n",
        "for linea in lineas:\n",
        "    if palabra in linea.lower():\n",
        "        print(linea)\n"
      ],
      "metadata": {
        "colab": {
          "base_uri": "https://localhost:8080/"
        },
        "id": "jMGVxoZqx5BC",
        "outputId": "01a835fa-3b0a-44b1-c1d8-ef3b84f721d2"
      },
      "execution_count": 2,
      "outputs": [
        {
          "output_type": "stream",
          "name": "stdout",
          "text": [
            "Ingrese palabra clave: canales\n",
            "Usa los canales adecuados para cada tema.\n"
          ]
        }
      ]
    },
    {
      "cell_type": "markdown",
      "source": [
        "**Valide un nombre de usuario con los siguientes criterios:**\n",
        "* Al menos 5 caracteres\n",
        "* Contiene al menos un numero\n",
        "* Contiene al menos una letra maypuscula\n",
        "* Solo puede contener letras y numeros"
      ],
      "metadata": {
        "id": "sApyeZkE0DIe"
      }
    },
    {
      "cell_type": "code",
      "source": [
        "listo = False\n",
        "\n",
        "while not (listo):\n",
        "  intento = input(\"Genere el nombre de usuario: \")\n",
        "  if len(intento) >= 5:\n",
        "    if any(char.isdigit() for char in intento):\n",
        "      if any(char.isupper() for char in intento):\n",
        "        if intento.isalnum():\n",
        "          listo = True\n",
        "          print(\"Nombre de usuario valido\")\n",
        "        else:\n",
        "          print(\"el nombre de usuario debe ser alfanumérico\")\n",
        "      else:\n",
        "        print(\"Debe contener al menos una letra mayúscula\")\n",
        "    else:\n",
        "      print(\"Debe contener al menos un numero\")\n",
        "  else:\n",
        "    print(\"El nombre de usuario debe contener al menos 5 caracteres\")\n",
        "\n",
        "\n"
      ],
      "metadata": {
        "colab": {
          "base_uri": "https://localhost:8080/"
        },
        "id": "mo8ohEt2x6v5",
        "outputId": "035c0259-c050-4543-8e5d-4e9c9e08b882"
      },
      "execution_count": 1,
      "outputs": [
        {
          "output_type": "stream",
          "name": "stdout",
          "text": [
            "Genere el nombre de usuario: hola\n",
            "El nombre de usuario debe contener al menos 5 caracteres\n",
            "Genere el nombre de usuario: Hola\n",
            "El nombre de usuario debe contener al menos 5 caracteres\n",
            "Genere el nombre de usuario: Holas\n",
            "Debe contener al menos un numero\n",
            "Genere el nombre de usuario: Holas.\n",
            "Debe contener al menos un numero\n",
            "Genere el nombre de usuario: Holas1.\n",
            "el nombre de usuario debe ser alfanumérico\n",
            "Genere el nombre de usuario: Holas1\n",
            "Nombre de usuario valido\n"
          ]
        }
      ]
    },
    {
      "cell_type": "markdown",
      "source": [
        "**Dado el tiempo de reacción de un jugador en milisegundos, clasifiquelo en las siguientes categorías:**\n",
        "* Menos de 200 ms: Rápido\n",
        "* Entre 200 y 500 ms: Normal\n",
        "* Más de 500 ms: Lento"
      ],
      "metadata": {
        "id": "HM2ZWuYwJm6y"
      }
    },
    {
      "cell_type": "code",
      "source": [
        "velocidad = input(\"velocidad de reaccion del jugador: \")\n",
        "\n",
        "if velocidad.isdigit():\n",
        "  if (int(velocidad) < 200):\n",
        "    print(\"Rápido\")\n",
        "  elif (int(velocidad) >= 200 and int(velocidad) <= 500):\n",
        "    print(\"Normal\")\n",
        "  elif (int(velocidad) > 500):\n",
        "    print(\"Lento\")\n",
        "else:\n",
        "  print(\"Ingrese un numero.\")"
      ],
      "metadata": {
        "colab": {
          "base_uri": "https://localhost:8080/"
        },
        "id": "BQlWN7ZEJ1kq",
        "outputId": "c6a06c39-62f6-4edd-dced-f31e288d89c8"
      },
      "execution_count": 5,
      "outputs": [
        {
          "output_type": "stream",
          "name": "stdout",
          "text": [
            "velocidad de reaccion del jugador: 600\n",
            "Lento\n"
          ]
        }
      ]
    },
    {
      "cell_type": "markdown",
      "source": [
        "**Dadas varias descripciones de streams en Twitch, cuente cuántas menciones hay de \"entretenimiento\", \"música\" y \"charla\".**"
      ],
      "metadata": {
        "id": "CC3e0kEoKqDc"
      }
    },
    {
      "cell_type": "code",
      "source": [
        "descriptions = [\n",
        "\"Streaming de música en vivo con covers y composiciones\",\n",
        "\"Charla interactiva con la audiencia sobre series y películas\",\n",
        "\"Jugamos a juegos retro y charlamos sobre su historia\",\n",
        "\"Exploramos la mejor música de los 80s y 90s\",\n",
        "\"Programa de entretenimiento con noticias y curiosidades del mundo gamer\",\n",
        "\"Sesión de charla con invitados especiales del mundo del streaming\",\n",
        "\"Música en directo con improvisaciones y peticiones del chat\",\n",
        "\"Un espacio para charlar relajada sobre tecnología y cultura digital\",\n",
        "\"Exploramos el impacto de la música en los videojuegos clásicos\"\n",
        "]\n",
        "\n",
        "desk = \"\"\n",
        "ent, mus, cha = 0, 0, 0\n",
        "for desc in descriptions:\n",
        "  if \"entretenimiento\" in desc.lower():\n",
        "    ent+=1\n",
        "  elif \"música\" in desc.lower():\n",
        "    mus+=1\n",
        "  elif \"charla\" in desc.lower():\n",
        "    cha+=1\n",
        "\n",
        "print(f\"Entretenimiento: {ent}, Música: {mus}, Charla: {cha}\")\n"
      ],
      "metadata": {
        "colab": {
          "base_uri": "https://localhost:8080/"
        },
        "id": "lPZjoL_bKpeQ",
        "outputId": "189d906a-a223-441a-8da6-265ddc8de844"
      },
      "execution_count": 10,
      "outputs": [
        {
          "output_type": "stream",
          "name": "stdout",
          "text": [
            "Entretenimiento: 1, Música: 4, Charla: 4\n"
          ]
        }
      ]
    },
    {
      "cell_type": "markdown",
      "source": [
        "**Genere un código de descuento aleatorio para un usuario en base a su nombre, la fecha actual y el resto deben ser números o letras aleatorias. El código debe tener una longitud de 30 caracteres, todas las letras deben ser mayúsculas.\n",
        "El usuario debe ingresarse por teclado y debe validar que no exeda los 15 caracteres.**"
      ],
      "metadata": {
        "id": "0m65o-L2L0MT"
      }
    },
    {
      "cell_type": "code",
      "source": [
        "import random\n",
        "Alfanumerico = \"ABCDEFGHIJKLMNOPQRSTUVWXYZ0123456789\"\n",
        "\n",
        "nombre = input(\"Ingresar Nombre: \")\n",
        "fecha = input(\"Ingresar Fecha: \")\n",
        "fecha = fecha.split(\"-\")\n",
        "ingreso = nombre.upper() + \"-\" + fecha[0] + fecha[1] + fecha[2] + \"-\"\n",
        "\n",
        "if (len(ingreso) < 15):\n",
        "  for i in range(0, 30 - len(ingreso)+1):\n",
        "    ingreso += random.choice(Alfanumerico)\n",
        "  print(ingreso)\n",
        "else:\n",
        "  print(\"El nombre de usuario es  muy largo\")"
      ],
      "metadata": {
        "colab": {
          "base_uri": "https://localhost:8080/"
        },
        "id": "-c2o77rVMFwK",
        "outputId": "fa22d4a5-af0d-4100-d428-a18eed90ea2a"
      },
      "execution_count": 20,
      "outputs": [
        {
          "output_type": "stream",
          "name": "stdout",
          "text": [
            "Ingresar Nombre: Dario\n",
            "Ingresar Fecha: 12-23-34\n",
            "DARIO-122334-K1EXST95YBMJ2XPCRD 31\n"
          ]
        }
      ]
    },
    {
      "cell_type": "markdown",
      "source": [
        "**Eres un analista de datos en una empresa que ha recibido una lista de nombres de clientes de distintas fuentes. Sin embargo, estos datos contienen errores, espacios en blanco, nombres repetidos y valores nulos.**\n",
        "\n",
        "**Tu tarea es desarrollar un sistema que limpie y estandarice estos datos para poder usarlos en el sistema de facturación.**\n",
        "\n",
        "\n",
        "**Datos de entrada La empresa ha recopilado nombres de clientes desde diferentes formularios, bases de datos y registros manuales.\n",
        "La lista de datos inicial es la siguiente:**"
      ],
      "metadata": {
        "id": "VEElh-_8PvmX"
      }
    },
    {
      "cell_type": "code",
      "source": [
        "clients = [\n",
        "\" Ana López \", \"Pedro Gómez\", \"maria martínez\", \"Pedro Gómez \", \"\",\n",
        "\" Luis Rodríguez \", None, \"ana lópez\", \"JUAN PÉREZ\", \"MARTA SUÁREZ\",\n",
        "\"luis rodríguez\", \"maría martínez \", \" claudia torres\", \"CLAUDIA TORRES\",\n",
        "\" \", \"pedro gómez\", \"Juan Pérez\", None, \"Ricardo Fernández\", \"LAURA RAMOS\",\n",
        "\"carlos mendes\", \"RICARDO FERNÁNDEZ \", \" Laura ramos\", \"CARLOS MENDES\",\n",
        "\"alejandro gonzález\", \" ALEJANDRO GONZÁLEZ \", \"Patricia Vega\",\n",
        "\"patricia VEGA\", \"Andrés Ocampo\", \" andrés ocampo\", \"Monica Herrera\",\n",
        "\"MONICA HERRERA \", \"gabriela ruíz\", \"Gabriela Ruíz\", \"sandra morales\",\n",
        "\"SANDRA MORALES\", \"miguel ángel\", \"Miguel Ángel \", \" Damián Castillo\",\n",
        "\"Damián Castillo \", None, \"\", \" \"\n",
        "]"
      ],
      "metadata": {
        "id": "quzVuWr1P-QU"
      },
      "execution_count": null,
      "outputs": []
    },
    {
      "cell_type": "markdown",
      "source": [
        "* Eliminar espacios extra en los nombres.\n",
        "* Convertir todos los nombres a formato de título (primera letra en mayúscula y el resto en minúscula).\n",
        "* Eliminar registros duplicados para evitar clientes repetidos.\n",
        "* Eliminar valores vacíos o nulos, ya que no aportan información válida.\n",
        "* Mostrar la lista limpia de clientes listos para usar en el sistema de facturación.\n"
      ],
      "metadata": {
        "id": "IxnozfKvQFew"
      }
    },
    {
      "cell_type": "code",
      "source": [
        "clients = [\n",
        "\" Ana López \", \"Pedro Gómez\", \"maria martínez\", \"Pedro Gómez \", \"\",\n",
        "\" Luis Rodríguez \", None, \"ana lópez\", \"JUAN PÉREZ\", \"MARTA SUÁREZ\",\n",
        "\"luis rodríguez\", \"maría martínez \", \" claudia torres\", \"CLAUDIA TORRES\",\n",
        "\" \", \"pedro gómez\", \"Juan Pérez\", None, \"Ricardo Fernández\", \"LAURA RAMOS\",\n",
        "\"carlos mendes\", \"RICARDO FERNÁNDEZ \", \" Laura ramos\", \"CARLOS MENDES\",\n",
        "\"alejandro gonzález\", \" ALEJANDRO GONZÁLEZ \", \"Patricia Vega\",\n",
        "\"patricia VEGA\", \"Andrés Ocampo\", \" andrés ocampo\", \"Monica Herrera\",\n",
        "\"MONICA HERRERA \", \"gabriela ruíz\", \"Gabriela Ruíz\", \"sandra morales\",\n",
        "\"SANDRA MORALES\", \"miguel ángel\", \"Miguel Ángel \", \" Damián Castillo\",\n",
        "\"Damián Castillo \", None, \"\", \" \"\n",
        "]\n",
        "\n",
        "def limpiar(lista):\n",
        "  #Eliminar nulo y vacios\n",
        "  filtrados = [\n",
        "      cliente.strip()\n",
        "      for cliente in lista\n",
        "      if cliente is not None and cliente.strip()!= \"\"\n",
        "      ]\n",
        "\n",
        "  #Formato correcto\n",
        "  formateados = [cliente.title() for cliente in filtrados]\n",
        "\n",
        "  #Eliminar duplicados\n",
        "  vistos = set()\n",
        "  for cliente in formateados:\n",
        "    if cliente not in vistos:\n",
        "      vistos.add(cliente)\n",
        "\n",
        "  return vistos\n",
        "\n",
        "\n",
        "comoCorresponde = limpiar(clients)\n",
        "print(comoCorresponde)"
      ],
      "metadata": {
        "colab": {
          "base_uri": "https://localhost:8080/"
        },
        "id": "z0ytVqCiQR1f",
        "outputId": "ddec9413-130f-4d6c-99e8-915ebcf0124b"
      },
      "execution_count": 28,
      "outputs": [
        {
          "output_type": "stream",
          "name": "stdout",
          "text": [
            "{'Gabriela Ruíz', 'Maria Martínez', 'Alejandro González', 'Patricia Vega', 'Damián Castillo', 'Juan Pérez', 'Andrés Ocampo', 'Miguel Ángel', 'Sandra Morales', 'Monica Herrera', 'Carlos Mendes', 'Pedro Gómez', 'Marta Suárez', 'Laura Ramos', 'Ana López', 'Ricardo Fernández', 'Claudia Torres', 'Luis Rodríguez', 'María Martínez'}\n"
          ]
        }
      ]
    },
    {
      "cell_type": "markdown",
      "source": [
        "**Simule varias partidas de un juego de disparos y genere un ranking basado en el puntaje total de cada jugador. Se utilizará el siguiente sistema de puntuación:**\n",
        "\n",
        "\n",
        "**Imprima las tablas de resultados luego de la inserción de cada una de las rondas pudiendo ver el progreso en el equipo.\n",
        "\n",
        "\n",
        "Además cada ronda debe tener un MVP (Mejor Jugador del Partido/ronda) basado en su puntuación. La cantidad de veces que el jugador ha sido MVP también se debe contabilizar Se debe imprimir el total de kills, asistencias, muertes, cantidad de MVP y puntos totales. La tabla tiene que estar en orden decreciente por los puntos totales**"
      ],
      "metadata": {
        "id": "Z5rILHRlW7Lr"
      }
    },
    {
      "cell_type": "code",
      "source": [
        "import time\n",
        "\n",
        "rounds = [\n",
        "    {\n",
        "        'Shadow': {'kills': 2, 'assists': 1, 'deaths': True},\n",
        "        'Blaze': {'kills': 1, 'assists': 0, 'deaths': False},\n",
        "        'Viper': {'kills': 1, 'assists': 2, 'deaths': True},\n",
        "        'Frost': {'kills': 0, 'assists': 1, 'deaths': False},\n",
        "        'Reaper': {'kills': 1, 'assists': 1, 'deaths': False}\n",
        "    },\n",
        "    {\n",
        "        'Shadow': {'kills': 0, 'assists': 2, 'deaths': False},\n",
        "        'Blaze': {'kills': 2, 'assists': 0, 'deaths': True},\n",
        "        'Viper': {'kills': 1, 'assists': 1, 'deaths': False},\n",
        "        'Frost': {'kills': 2, 'assists': 1, 'deaths': True},\n",
        "        'Reaper': {'kills': 0, 'assists': 1, 'deaths': False}\n",
        "    },\n",
        "    {\n",
        "        'Shadow': {'kills': 1, 'assists': 0, 'deaths': False},\n",
        "        'Blaze': {'kills': 2, 'assists': 2, 'deaths': True},\n",
        "        'Viper': {'kills': 1, 'assists': 1, 'deaths': True},\n",
        "        'Frost': {'kills': 0, 'assists': 1, 'deaths': False},\n",
        "        'Reaper': {'kills': 1, 'assists': 1, 'deaths': False}\n",
        "    },\n",
        "    {\n",
        "        'Shadow': {'kills': 2, 'assists': 1, 'deaths': False},\n",
        "        'Blaze': {'kills': 1, 'assists': 0, 'deaths': True},\n",
        "        'Viper': {'kills': 0, 'assists': 2, 'deaths': False},\n",
        "        'Frost': {'kills': 1, 'assists': 1, 'deaths': True},\n",
        "        'Reaper': {'kills': 1, 'assists': 1, 'deaths': False}\n",
        "    },\n",
        "    {\n",
        "        'Shadow': {'kills': 1, 'assists': 2, 'deaths': True},\n",
        "        'Blaze': {'kills': 0, 'assists': 1, 'deaths': False},\n",
        "        'Viper': {'kills': 2, 'assists': 0, 'deaths': True},\n",
        "        'Frost': {'kills': 1, 'assists': 1, 'deaths': False},\n",
        "        'Reaper': {'kills': 1, 'assists': 1, 'deaths': True}\n",
        "    }\n",
        "]\n",
        "\n",
        "def calcular_puntaje(kills, assists, deaths):\n",
        "    \"\"\"Calcula el puntaje total de un jugador en una ronda\"\"\"\n",
        "    return kills * 3 + assists * 1 - (1 if deaths else 0)\n",
        "\n",
        "def simular_partidas(rounds):\n",
        "    \"\"\"Simula las partidas y genera el ranking\"\"\"\n",
        "    # Inicializar estadísticas totales\n",
        "    jugadores = {}\n",
        "    mvp_counts = {}\n",
        "\n",
        "    for i, ronda in enumerate(rounds, 1):\n",
        "        # Mostrar mensaje de espera entre partidas\n",
        "        print(\"\\nJugando partida, espere...\")\n",
        "        time.sleep(3)  # Pausa de 5 segundos\n",
        "\n",
        "        print(f\"\\nRanking ronda {i}:\")\n",
        "        puntajes_ronda = {}\n",
        "        max_puntaje = -1\n",
        "        mvp = None\n",
        "\n",
        "        # Calcular puntajes para esta ronda\n",
        "        for jugador, estadisticas in ronda.items():\n",
        "            kills = estadisticas['kills']\n",
        "            assists = estadisticas['assists']\n",
        "            deaths = estadisticas['deaths']\n",
        "            puntaje = calcular_puntaje(kills, assists, deaths)\n",
        "\n",
        "            puntajes_ronda[jugador] = puntaje\n",
        "\n",
        "            # Actualizar estadísticas totales\n",
        "            if jugador not in jugadores:\n",
        "                jugadores[jugador] = {\n",
        "                    'kills': 0,\n",
        "                    'assists': 0,\n",
        "                    'deaths': 0,\n",
        "                    'puntos': 0\n",
        "                }\n",
        "                mvp_counts[jugador] = 0\n",
        "\n",
        "            jugadores[jugador]['kills'] += kills\n",
        "            jugadores[jugador]['assists'] += assists\n",
        "            jugadores[jugador]['deaths'] += (1 if deaths else 0)\n",
        "            jugadores[jugador]['puntos'] += puntaje\n",
        "\n",
        "            # Determinar MVP\n",
        "            if puntaje > max_puntaje:\n",
        "                max_puntaje = puntaje\n",
        "                mvp = jugador\n",
        "            elif puntaje == max_puntaje:\n",
        "                # En caso de empate, el MVP es el que tiene más kills\n",
        "                if kills > ronda[mvp]['kills']:\n",
        "                    mvp = jugador\n",
        "\n",
        "        # Actualizar conteo de MVPs\n",
        "        if mvp:\n",
        "            mvp_counts[mvp] += 1\n",
        "\n",
        "        # Mostrar resultados de la ronda\n",
        "        print(\"Jugador   Kills   Asistencias   Muerte   Puntos\")\n",
        "        for jugador, puntaje in sorted(puntajes_ronda.items(), key=lambda x: -x[1]):\n",
        "            estadisticas = ronda[jugador]\n",
        "            print(f\"{jugador:8} {estadisticas['kills']:6} {estadisticas['assists']:12} {str(estadisticas['deaths']):8} {puntaje:7}\")\n",
        "\n",
        "        print(f\"\\nMVP de la ronda: {mvp} (Puntos: {max_puntaje})\")\n",
        "\n",
        "    # Mostrar ranking final\n",
        "    print(\"\\nRanking final:\")\n",
        "    print(\"Jugador   Kills   Asistencias   Muerte   MVPs   Puntos\")\n",
        "    for jugador in sorted(jugadores.keys(), key=lambda x: -jugadores[x]['puntos']):\n",
        "        estadisticas = jugadores[jugador]\n",
        "        print(f\"{jugador:8} {estadisticas['kills']:6} {estadisticas['assists']:12} {estadisticas['deaths']:8} {mvp_counts[jugador]:5} {estadisticas['puntos']:7}\")\n",
        "\n",
        "# Ejecutar la simulación\n",
        "simular_partidas(rounds)"
      ],
      "metadata": {
        "colab": {
          "base_uri": "https://localhost:8080/"
        },
        "id": "Ic4osVNbXRA2",
        "outputId": "486804eb-ec99-4c5a-badd-004c6ea83715"
      },
      "execution_count": 34,
      "outputs": [
        {
          "output_type": "stream",
          "name": "stdout",
          "text": [
            "\n",
            "Jugando partida, espere...\n",
            "\n",
            "Ranking ronda 1:\n",
            "Jugador   Kills   Asistencias   Muerte   Puntos\n",
            "Shadow        2            1 True           6\n",
            "Viper         1            2 True           4\n",
            "Reaper        1            1 False          4\n",
            "Blaze         1            0 False          3\n",
            "Frost         0            1 False          1\n",
            "\n",
            "MVP de la ronda: Shadow (Puntos: 6)\n",
            "\n",
            "Jugando partida, espere...\n",
            "\n",
            "Ranking ronda 2:\n",
            "Jugador   Kills   Asistencias   Muerte   Puntos\n",
            "Frost         2            1 True           6\n",
            "Blaze         2            0 True           5\n",
            "Viper         1            1 False          4\n",
            "Shadow        0            2 False          2\n",
            "Reaper        0            1 False          1\n",
            "\n",
            "MVP de la ronda: Frost (Puntos: 6)\n",
            "\n",
            "Jugando partida, espere...\n",
            "\n",
            "Ranking ronda 3:\n",
            "Jugador   Kills   Asistencias   Muerte   Puntos\n",
            "Blaze         2            2 True           7\n",
            "Reaper        1            1 False          4\n",
            "Shadow        1            0 False          3\n",
            "Viper         1            1 True           3\n",
            "Frost         0            1 False          1\n",
            "\n",
            "MVP de la ronda: Blaze (Puntos: 7)\n",
            "\n",
            "Jugando partida, espere...\n",
            "\n",
            "Ranking ronda 4:\n",
            "Jugador   Kills   Asistencias   Muerte   Puntos\n",
            "Shadow        2            1 False          7\n",
            "Reaper        1            1 False          4\n",
            "Frost         1            1 True           3\n",
            "Blaze         1            0 True           2\n",
            "Viper         0            2 False          2\n",
            "\n",
            "MVP de la ronda: Shadow (Puntos: 7)\n",
            "\n",
            "Jugando partida, espere...\n",
            "\n",
            "Ranking ronda 5:\n",
            "Jugador   Kills   Asistencias   Muerte   Puntos\n",
            "Viper         2            0 True           5\n",
            "Shadow        1            2 True           4\n",
            "Frost         1            1 False          4\n",
            "Reaper        1            1 True           3\n",
            "Blaze         0            1 False          1\n",
            "\n",
            "MVP de la ronda: Viper (Puntos: 5)\n",
            "\n",
            "Ranking final:\n",
            "Jugador   Kills   Asistencias   Muerte   MVPs   Puntos\n",
            "Shadow        6            6        2     2      22\n",
            "Blaze         6            3        3     1      18\n",
            "Viper         5            6        3     1      18\n",
            "Reaper        4            5        1     0      16\n",
            "Frost         4            5        2     1      15\n"
          ]
        }
      ]
    }
  ]
}